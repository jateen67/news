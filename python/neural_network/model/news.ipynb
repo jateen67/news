{
  "nbformat": 4,
  "nbformat_minor": 0,
  "metadata": {
    "colab": {
      "provenance": []
    },
    "kernelspec": {
      "name": "python3",
      "display_name": "Python 3"
    },
    "language_info": {
      "name": "python"
    }
  },
  "cells": [
    {
      "cell_type": "code",
      "execution_count": 3,
      "metadata": {
        "colab": {
          "base_uri": "https://localhost:8080/"
        },
        "id": "w8oXoONPY7_d",
        "outputId": "f304cc3d-0987-4166-85c7-e388befa106f"
      },
      "outputs": [
        {
          "output_type": "stream",
          "name": "stdout",
          "text": [
            "Mounted at /content/drive\n",
            "/content/drive/MyDrive/news\n"
          ]
        }
      ],
      "source": [
        "from google.colab import drive\n",
        "drive.mount('/content/drive')\n",
        "%cd /content/drive/MyDrive/news/"
      ]
    },
    {
      "cell_type": "code",
      "source": [
        "import pandas as pd\n",
        "import numpy as np\n",
        "from numpy import array\n",
        "import nltk\n",
        "from nltk.corpus import stopwords\n",
        "import re\n",
        "from sklearn.model_selection import train_test_split\n",
        "from keras.preprocessing.text import Tokenizer\n",
        "from keras.utils import pad_sequences\n",
        "from numpy import asarray\n",
        "from numpy import zeros\n",
        "from keras.layers import LSTM, Embedding\n",
        "from keras.models import Sequential\n",
        "from keras.layers.core import Dense\n",
        "import matplotlib.pyplot as plt\n",
        "\n",
        "nltk.download('stopwords')"
      ],
      "metadata": {
        "colab": {
          "base_uri": "https://localhost:8080/"
        },
        "id": "2tO-iTbYogAH",
        "outputId": "594c9174-affb-494b-bcd3-3a080c074b9c"
      },
      "execution_count": 29,
      "outputs": [
        {
          "output_type": "stream",
          "name": "stderr",
          "text": [
            "[nltk_data] Downloading package stopwords to /root/nltk_data...\n",
            "[nltk_data]   Package stopwords is already up-to-date!\n"
          ]
        },
        {
          "output_type": "execute_result",
          "data": {
            "text/plain": [
              "True"
            ]
          },
          "metadata": {},
          "execution_count": 29
        }
      ]
    },
    {
      "cell_type": "code",
      "source": [
        "imdb_reviews = pd.read_csv(\"imdb_reviews.csv\")\n",
        "# safety check\n",
        "imdb_reviews.shape"
      ],
      "metadata": {
        "colab": {
          "base_uri": "https://localhost:8080/"
        },
        "id": "3btXoai3reVj",
        "outputId": "307fb388-b854-4e2e-9c84-49bf3dc50b4c"
      },
      "execution_count": 5,
      "outputs": [
        {
          "output_type": "execute_result",
          "data": {
            "text/plain": [
              "(50000, 2)"
            ]
          },
          "metadata": {},
          "execution_count": 5
        }
      ]
    },
    {
      "cell_type": "markdown",
      "source": [
        "preprocessing"
      ],
      "metadata": {
        "id": "0EZLI7YQr-ma"
      }
    },
    {
      "cell_type": "code",
      "source": [
        "def preprocess(s):\n",
        "    s = s.lower()\n",
        "\n",
        "    s = re.compile(r'<[^>]+>').sub('', s)\n",
        "\n",
        "    # remove punctuations/numbers\n",
        "    s = re.sub('[^a-zA-Z]', ' ', s)\n",
        "\n",
        "    # remove single letters\n",
        "    s = re.sub(r\"\\s+[a-zA-Z]\\s+\", ' ', s)\n",
        "\n",
        "    # remove places with more than one space\n",
        "    s = re.sub(r'\\s+', ' ', s)\n",
        "\n",
        "    # remove nltk stopwords (regex makes it go wayyy faster than the line below)\n",
        "    # s = ' '.join([word for word in s.split() if word not in (stopwords.words('english'))])\n",
        "    s = re.compile(r'\\b(' + r'|'.join(stopwords.words('english')) + r')\\b\\s*').sub('', s)\n",
        "\n",
        "    return s"
      ],
      "metadata": {
        "id": "mBx1dLossAEM"
      },
      "execution_count": 6,
      "outputs": []
    },
    {
      "cell_type": "code",
      "source": [
        "print(preprocess(\"i use ` rust for BLLLLLAZINGLY fast code    ... its amazing\"))"
      ],
      "metadata": {
        "colab": {
          "base_uri": "https://localhost:8080/"
        },
        "id": "rHIxejCcwkG6",
        "outputId": "c848460f-2b63-4393-9157-27bc30266ee8"
      },
      "execution_count": 7,
      "outputs": [
        {
          "output_type": "stream",
          "name": "stdout",
          "text": [
            "use rust blllllazingly fast code amazing\n"
          ]
        }
      ]
    },
    {
      "cell_type": "code",
      "source": [
        "# preprocessing all reviews\n",
        "preprocessed_text = []\n",
        "\n",
        "for review in list(imdb_reviews['review']):\n",
        "    preprocessed_text.append(preprocess(review))\n",
        "\n",
        "print(preprocessed_text[1])"
      ],
      "metadata": {
        "colab": {
          "base_uri": "https://localhost:8080/"
        },
        "id": "b0o38gkn1iLP",
        "outputId": "a02a3fe0-030e-4cee-c6e6-f9e6776846c5"
      },
      "execution_count": 8,
      "outputs": [
        {
          "output_type": "stream",
          "name": "stdout",
          "text": [
            "wonderful little production filming technique unassuming old time bbc fashion gives comforting sometimes discomforting sense realism entire piece actors extremely well chosen michael sheen got polari voices pat truly see seamless editing guided references williams diary entries well worth watching terrificly written performed piece masterful production one great master comedy life realism really comes home little things fantasy guard rather use traditional dream techniques remains solid disappears plays knowledge senses particularly scenes concerning orton halliwell sets particularly flat halliwell murals decorating every surface terribly well done \n"
          ]
        }
      ]
    },
    {
      "cell_type": "code",
      "source": [
        "# converting each review's \"sentiment\" column value to 1 and 0 instead of \"positive\" and \"negative\"\n",
        "sentiments = []\n",
        "\n",
        "for sentiment in imdb_reviews['sentiment']:\n",
        "    if sentiment == \"positive\":\n",
        "        sentiments.append(1)\n",
        "    else:\n",
        "        sentiments.append(0)\n",
        "\n",
        "sentiments = np.array(sentiments)\n",
        "\n",
        "print(sentiments[1])"
      ],
      "metadata": {
        "colab": {
          "base_uri": "https://localhost:8080/"
        },
        "id": "pXo0bfqi22W8",
        "outputId": "e93e59e7-d033-44ce-ec1f-0f0ef7da11b7"
      },
      "execution_count": 10,
      "outputs": [
        {
          "output_type": "stream",
          "name": "stdout",
          "text": [
            "1\n"
          ]
        }
      ]
    },
    {
      "cell_type": "code",
      "source": [
        "# spliting data into training and test set data for the model\n",
        "X_train, X_test, y_train, y_test = train_test_split(preprocessed_text, sentiments, test_size=0.25, random_state=42)"
      ],
      "metadata": {
        "id": "OLjTfAOJ4T66"
      },
      "execution_count": 11,
      "outputs": []
    },
    {
      "cell_type": "markdown",
      "source": [
        "making embedded layer"
      ],
      "metadata": {
        "id": "MxPbK5dqTkzE"
      }
    },
    {
      "cell_type": "code",
      "source": [
        "# transform raw text into numerical representations suitable for feeding into the model\n",
        "tokenizer = Tokenizer()\n",
        "tokenizer.fit_on_texts(X_train)\n",
        "\n",
        "X_train = tokenizer.texts_to_sequences(X_train)\n",
        "X_test = tokenizer.texts_to_sequences(X_test)"
      ],
      "metadata": {
        "id": "ZAmBoj4RSfgG"
      },
      "execution_count": 12,
      "outputs": []
    },
    {
      "cell_type": "code",
      "source": [
        "# our corpus has 90,094 words in it\n",
        "# also adding one more to the mix for words that dont have a word embedding (90,095 total)\n",
        "corpus_length = len(tokenizer.word_index) + 1\n",
        "print(corpus_length)"
      ],
      "metadata": {
        "colab": {
          "base_uri": "https://localhost:8080/"
        },
        "id": "QcNIN5fWV4Vh",
        "outputId": "9c18eab4-967e-427a-b305-8daf1a8bd4e8"
      },
      "execution_count": 13,
      "outputs": [
        {
          "output_type": "stream",
          "name": "stdout",
          "text": [
            "90095\n"
          ]
        }
      ]
    },
    {
      "cell_type": "code",
      "source": [
        "# padding reviews to 100 tokens\n",
        "X_train = pad_sequences(X_train, padding='post', maxlen=100)\n",
        "X_test = pad_sequences(X_test, padding='post', maxlen=100)"
      ],
      "metadata": {
        "id": "PnAmlLbwW5-p"
      },
      "execution_count": 15,
      "outputs": []
    },
    {
      "cell_type": "code",
      "source": [
        "# creating dict that will contain word embeddings for words found in the glove_word_embeddings.txt\n",
        "word_embeddings_dict = {}\n",
        "glove_word_embeddings = open('glove_word_embeddings.txt', encoding=\"utf8\")\n",
        "\n",
        "for line in glove_word_embeddings:\n",
        "    values = line.split()\n",
        "    word = values[0]\n",
        "    embedding_vector = np.asarray(values[1:], dtype='float32')\n",
        "    word_embeddings_dict[word] = embedding_vector\n",
        "glove_word_embeddings.close()"
      ],
      "metadata": {
        "id": "frkhAa_SXY00"
      },
      "execution_count": 17,
      "outputs": []
    },
    {
      "cell_type": "code",
      "source": [
        "# each row corresponds to the index of the word in the corpus\n",
        "# the matrix has 100 columns, where each column contains the glove embeddings for the words in the corpus\n",
        "# matrix can now be used as an initial embedding layer when training the neural network\n",
        "embedding_matrix = np.zeros((corpus_length, 100))\n",
        "\n",
        "for word, i in tokenizer.word_index.items():\n",
        "    embedding_vector = word_embeddings_dict.get(word)\n",
        "    if embedding_vector is not None:\n",
        "        embedding_matrix[i] = embedding_vector"
      ],
      "metadata": {
        "id": "LAqLuvq9cwzJ"
      },
      "execution_count": 18,
      "outputs": []
    },
    {
      "cell_type": "code",
      "source": [
        "print(embedding_matrix.shape)"
      ],
      "metadata": {
        "colab": {
          "base_uri": "https://localhost:8080/"
        },
        "id": "zkm4ut_cfxWt",
        "outputId": "6e8502ed-4d39-4a9a-988c-598864557433"
      },
      "execution_count": 20,
      "outputs": [
        {
          "output_type": "stream",
          "name": "stdout",
          "text": [
            "(90095, 100)\n"
          ]
        }
      ]
    },
    {
      "cell_type": "markdown",
      "source": [
        "training"
      ],
      "metadata": {
        "id": "bbiUDbMxfzjx"
      }
    },
    {
      "cell_type": "code",
      "source": [
        "# setup for a sequential model using our word embeddings and LSTM layer, followed by a final dense layer for binary classification output\n",
        "model = Sequential()\n",
        "model.add(Embedding(corpus_length, 100, weights=[embedding_matrix], input_length=100, trainable=False))\n",
        "model.add(LSTM(128))\n",
        "model.add(Dense(1, activation='sigmoid'))"
      ],
      "metadata": {
        "id": "czYAXrM6f177"
      },
      "execution_count": 24,
      "outputs": []
    },
    {
      "cell_type": "code",
      "source": [
        "# compile\n",
        "model.compile(optimizer='adam', loss='binary_crossentropy', metrics=['accuracy'])\n",
        "print(model.summary())"
      ],
      "metadata": {
        "colab": {
          "base_uri": "https://localhost:8080/"
        },
        "id": "1tv6_4DuhoAB",
        "outputId": "a8aa696a-ae88-4020-b714-c420e5a5ccf8"
      },
      "execution_count": 25,
      "outputs": [
        {
          "output_type": "stream",
          "name": "stdout",
          "text": [
            "Model: \"sequential\"\n",
            "_________________________________________________________________\n",
            " Layer (type)                Output Shape              Param #   \n",
            "=================================================================\n",
            " embedding (Embedding)       (None, 100, 100)          9009500   \n",
            "                                                                 \n",
            " lstm (LSTM)                 (None, 128)               117248    \n",
            "                                                                 \n",
            " dense (Dense)               (None, 1)                 129       \n",
            "                                                                 \n",
            "=================================================================\n",
            "Total params: 9,126,877\n",
            "Trainable params: 117,377\n",
            "Non-trainable params: 9,009,500\n",
            "_________________________________________________________________\n",
            "None\n"
          ]
        }
      ]
    },
    {
      "cell_type": "code",
      "source": [
        "# trainingggg\n",
        "fit_model = model.fit(X_train, y_train, batch_size=512, epochs=6, verbose=1, validation_split=0.20)"
      ],
      "metadata": {
        "colab": {
          "base_uri": "https://localhost:8080/"
        },
        "id": "JQCextk8jVzg",
        "outputId": "46468601-d2b9-4ab6-8e0d-100b9da1aca4"
      },
      "execution_count": 26,
      "outputs": [
        {
          "output_type": "stream",
          "name": "stdout",
          "text": [
            "Epoch 1/6\n",
            "59/59 [==============================] - 74s 1s/step - loss: 0.5734 - accuracy: 0.6912 - val_loss: 0.4645 - val_accuracy: 0.7927\n",
            "Epoch 2/6\n",
            "59/59 [==============================] - 69s 1s/step - loss: 0.4529 - accuracy: 0.7921 - val_loss: 0.4422 - val_accuracy: 0.7937\n",
            "Epoch 3/6\n",
            "59/59 [==============================] - 68s 1s/step - loss: 0.4199 - accuracy: 0.8088 - val_loss: 0.3969 - val_accuracy: 0.8247\n",
            "Epoch 4/6\n",
            "59/59 [==============================] - 68s 1s/step - loss: 0.3917 - accuracy: 0.8233 - val_loss: 0.3801 - val_accuracy: 0.8289\n",
            "Epoch 5/6\n",
            "59/59 [==============================] - 67s 1s/step - loss: 0.3711 - accuracy: 0.8367 - val_loss: 0.3860 - val_accuracy: 0.8380\n",
            "Epoch 6/6\n",
            "59/59 [==============================] - 66s 1s/step - loss: 0.3606 - accuracy: 0.8422 - val_loss: 0.3591 - val_accuracy: 0.8405\n"
          ]
        }
      ]
    },
    {
      "cell_type": "code",
      "source": [
        "# final results\n",
        "print(model.evaluate(X_test, y_test, verbose=1))"
      ],
      "metadata": {
        "colab": {
          "base_uri": "https://localhost:8080/"
        },
        "id": "SzD3OQYZl5Za",
        "outputId": "531e29e4-eddd-45eb-caaf-f33bd695af6f"
      },
      "execution_count": 28,
      "outputs": [
        {
          "output_type": "stream",
          "name": "stdout",
          "text": [
            "391/391 [==============================] - 25s 64ms/step - loss: 0.3711 - accuracy: 0.8398\n",
            "[0.3711261451244354, 0.8398399949073792]\n"
          ]
        }
      ]
    },
    {
      "cell_type": "code",
      "source": [
        "# plot training and validation loss values\n",
        "plt.plot(fit_model.history['loss'])\n",
        "plt.plot(fit_model.history['val_loss'])\n",
        "plt.title('Model Loss')\n",
        "plt.xlabel('Epoch')\n",
        "plt.ylabel('Loss')\n",
        "plt.legend(['Train', 'Validation'], loc='upper right')\n",
        "plt.show()\n",
        "\n",
        "# plot training and validation accuracy values\n",
        "plt.plot(fit_model.history['accuracy'])\n",
        "plt.plot(fit_model.history['val_accuracy'])\n",
        "plt.title('Model Accuracy')\n",
        "plt.xlabel('Epoch')\n",
        "plt.ylabel('Accuracy')\n",
        "plt.legend(['Train', 'Validation'], loc='lower right')\n",
        "plt.show()"
      ],
      "metadata": {
        "colab": {
          "base_uri": "https://localhost:8080/",
          "height": 927
        },
        "id": "e3sKA7NZnLDr",
        "outputId": "969f1617-be97-43c4-edd4-6f7f0ce63fa8"
      },
      "execution_count": 30,
      "outputs": [
        {
          "output_type": "display_data",
          "data": {
            "text/plain": [
              "<Figure size 640x480 with 1 Axes>"
            ],
            "image/png": "[encoded data removed]"
          },
          "metadata": {}
        },
        {
          "output_type": "display_data",
          "data": {
            "text/plain": [
              "<Figure size 640x480 with 1 Axes>"
            ],
            "image/png": "[encoded data removed]"
          },
          "metadata": {}
        }
      ]
    },
    {
      "cell_type": "code",
      "source": [
        "# save\n",
        "model.save(\"./model.h5\", save_format='h5')"
      ],
      "metadata": {
        "id": "iR_33zbIpIkR"
      },
      "execution_count": 31,
      "outputs": []
    },
    {
      "cell_type": "markdown",
      "source": [
        "testing samples"
      ],
      "metadata": {
        "id": "dc7XzAJ3qXIE"
      }
    },
    {
      "cell_type": "code",
      "source": [
        "test_reviews = pd.read_csv(\"imdb_test_reviews.csv\")\n",
        "\n",
        "test_preprocessed = []\n",
        "for review in test_reviews[\"Review Text\"]:\n",
        "  review = preprocess(review)\n",
        "  test_preprocessed.append(review)\n",
        "\n",
        "# tokenising with tokenizer from before\n",
        "test_tokenized = tokenizer.texts_to_sequences(test_preprocessed)\n",
        "\n",
        "# padding to 100 tokens\n",
        "test_padded = pad_sequences(test_tokenized, padding='post', maxlen=100)\n",
        "\n",
        "# passing tokenized + padded reviews to the model\n",
        "test_sentiments = model.predict(test_padded)\n",
        "\n",
        "print(test_sentiments)"
      ],
      "metadata": {
        "colab": {
          "base_uri": "https://localhost:8080/"
        },
        "id": "rOjiF-O0qrUf",
        "outputId": "df2cdec1-c7f2-4bd7-c555-077605a81b8c"
      },
      "execution_count": 46,
      "outputs": [
        {
          "output_type": "stream",
          "name": "stdout",
          "text": [
            "1/1 [==============================] - 0s 33ms/step\n",
            "[[0.70322126]\n",
            " [0.9763698 ]\n",
            " [0.25916782]\n",
            " [0.7369284 ]\n",
            " [0.9769013 ]\n",
            " [0.08849256]]\n"
          ]
        }
      ]
    },
    {
      "cell_type": "code",
      "source": [
        "test_reviews['Predicted Rating'] = np.round(test_sentiments * 10, 1)\n",
        "test_reviews.head(6)"
      ],
      "metadata": {
        "colab": {
          "base_uri": "https://localhost:8080/",
          "height": 237
        },
        "id": "AGptnk7Ltq2i",
        "outputId": "ac5b131b-9cb8-4353-829e-6ce733df078f"
      },
      "execution_count": 47,
      "outputs": [
        {
          "output_type": "execute_result",
          "data": {
            "text/plain": [
              "   Unnamed: 0       Movie                                        Review Text  \\\n",
              "0           0  Ex Machina  Intelligent Movie.\\nThis movie is obviously al...   \n",
              "1           1  Ex Machina  Extraordinary and thought-provoking.\\n'Ex mach...   \n",
              "2           2  Ex Machina  Poor story, only reasonable otherwise.\\nIf I h...   \n",
              "3           3  Ex Machina  Had Great Potential.\\nThis movie is one of the...   \n",
              "4           4    Eternals  Amazing visuals and philosophical concepts!\\n\\...   \n",
              "5           5    Eternals  Worst MCU film ever\\n\\nFollowing the events of...   \n",
              "\n",
              "   IMDb Rating  Predicted Rating  \n",
              "0            9               7.0  \n",
              "1           10               9.8  \n",
              "2            3               2.6  \n",
              "3            1               7.4  \n",
              "4           10               9.8  \n",
              "5            3               0.9  "
            ],
            "text/html": [
              "\n",
              "\n",
              "  <div id=\"df-b44ddb89-5bd6-4b1a-8adc-b08e460a80b8\">\n",
              "    <div class=\"colab-df-container\">\n",
              "      <div>\n",
              "<style scoped>\n",
              "    .dataframe tbody tr th:only-of-type {\n",
              "        vertical-align: middle;\n",
              "    }\n",
              "\n",
              "    .dataframe tbody tr th {\n",
              "        vertical-align: top;\n",
              "    }\n",
              "\n",
              "    .dataframe thead th {\n",
              "        text-align: right;\n",
              "    }\n",
              "</style>\n",
              "<table border=\"1\" class=\"dataframe\">\n",
              "  <thead>\n",
              "    <tr style=\"text-align: right;\">\n",
              "      <th></th>\n",
              "      <th>Unnamed: 0</th>\n",
              "      <th>Movie</th>\n",
              "      <th>Review Text</th>\n",
              "      <th>IMDb Rating</th>\n",
              "      <th>Predicted Rating</th>\n",
              "    </tr>\n",
              "  </thead>\n",
              "  <tbody>\n",
              "    <tr>\n",
              "      <th>0</th>\n",
              "      <td>0</td>\n",
              "      <td>Ex Machina</td>\n",
              "      <td>Intelligent Movie.\\nThis movie is obviously al...</td>\n",
              "      <td>9</td>\n",
              "      <td>7.0</td>\n",
              "    </tr>\n",
              "    <tr>\n",
              "      <th>1</th>\n",
              "      <td>1</td>\n",
              "      <td>Ex Machina</td>\n",
              "      <td>Extraordinary and thought-provoking.\\n'Ex mach...</td>\n",
              "      <td>10</td>\n",
              "      <td>9.8</td>\n",
              "    </tr>\n",
              "    <tr>\n",
              "      <th>2</th>\n",
              "      <td>2</td>\n",
              "      <td>Ex Machina</td>\n",
              "      <td>Poor story, only reasonable otherwise.\\nIf I h...</td>\n",
              "      <td>3</td>\n",
              "      <td>2.6</td>\n",
              "    </tr>\n",
              "    <tr>\n",
              "      <th>3</th>\n",
              "      <td>3</td>\n",
              "      <td>Ex Machina</td>\n",
              "      <td>Had Great Potential.\\nThis movie is one of the...</td>\n",
              "      <td>1</td>\n",
              "      <td>7.4</td>\n",
              "    </tr>\n",
              "    <tr>\n",
              "      <th>4</th>\n",
              "      <td>4</td>\n",
              "      <td>Eternals</td>\n",
              "      <td>Amazing visuals and philosophical concepts!\\n\\...</td>\n",
              "      <td>10</td>\n",
              "      <td>9.8</td>\n",
              "    </tr>\n",
              "    <tr>\n",
              "      <th>5</th>\n",
              "      <td>5</td>\n",
              "      <td>Eternals</td>\n",
              "      <td>Worst MCU film ever\\n\\nFollowing the events of...</td>\n",
              "      <td>3</td>\n",
              "      <td>0.9</td>\n",
              "    </tr>\n",
              "  </tbody>\n",
              "</table>\n",
              "</div>\n",
              "      <button class=\"colab-df-convert\" onclick=\"convertToInteractive('df-b44ddb89-5bd6-4b1a-8adc-b08e460a80b8')\"\n",
              "              title=\"Convert this dataframe to an interactive table.\"\n",
              "              style=\"display:none;\">\n",
              "\n",
              "  <svg xmlns=\"http://www.w3.org/2000/svg\" height=\"24px\"viewBox=\"0 0 24 24\"\n",
              "       width=\"24px\">\n",
              "    <path d=\"M0 0h24v24H0V0z\" fill=\"none\"/>\n",
              "    <path d=\"M18.56 5.44l.94 2.06.94-2.06 2.06-.94-2.06-.94-.94-2.06-.94 2.06-2.06.94zm-11 1L8.5 8.5l.94-2.06 2.06-.94-2.06-.94L8.5 2.5l-.94 2.06-2.06.94zm10 10l.94 2.06.94-2.06 2.06-.94-2.06-.94-.94-2.06-.94 2.06-2.06.94z\"/><path d=\"M17.41 7.96l-1.37-1.37c-.4-.4-.92-.59-1.43-.59-.52 0-1.04.2-1.43.59L10.3 9.45l-7.72 7.72c-.78.78-.78 2.05 0 2.83L4 21.41c.39.39.9.59 1.41.59.51 0 1.02-.2 1.41-.59l7.78-7.78 2.81-2.81c.8-.78.8-2.07 0-2.86zM5.41 20L4 18.59l7.72-7.72 1.47 1.35L5.41 20z\"/>\n",
              "  </svg>\n",
              "      </button>\n",
              "\n",
              "\n",
              "\n",
              "    <div id=\"df-2b73b662-fb6a-4b1c-bb41-33c93da89833\">\n",
              "      <button class=\"colab-df-quickchart\" onclick=\"quickchart('df-2b73b662-fb6a-4b1c-bb41-33c93da89833')\"\n",
              "              title=\"Suggest charts.\"\n",
              "              style=\"display:none;\">\n",
              "\n",
              "<svg xmlns=\"http://www.w3.org/2000/svg\" height=\"24px\"viewBox=\"0 0 24 24\"\n",
              "     width=\"24px\">\n",
              "    <g>\n",
              "        <path d=\"M19 3H5c-1.1 0-2 .9-2 2v14c0 1.1.9 2 2 2h14c1.1 0 2-.9 2-2V5c0-1.1-.9-2-2-2zM9 17H7v-7h2v7zm4 0h-2V7h2v10zm4 0h-2v-4h2v4z\"/>\n",
              "    </g>\n",
              "</svg>\n",
              "      </button>\n",
              "    </div>\n",
              "\n",
              "<style>\n",
              "  .colab-df-quickchart {\n",
              "    background-color: #E8F0FE;\n",
              "    border: none;\n",
              "    border-radius: 50%;\n",
              "    cursor: pointer;\n",
              "    display: none;\n",
              "    fill: #1967D2;\n",
              "    height: 32px;\n",
              "    padding: 0 0 0 0;\n",
              "    width: 32px;\n",
              "  }\n",
              "\n",
              "  .colab-df-quickchart:hover {\n",
              "    background-color: #E2EBFA;\n",
              "    box-shadow: 0px 1px 2px rgba(60, 64, 67, 0.3), 0px 1px 3px 1px rgba(60, 64, 67, 0.15);\n",
              "    fill: #174EA6;\n",
              "  }\n",
              "\n",
              "  [theme=dark] .colab-df-quickchart {\n",
              "    background-color: #3B4455;\n",
              "    fill: #D2E3FC;\n",
              "  }\n",
              "\n",
              "  [theme=dark] .colab-df-quickchart:hover {\n",
              "    background-color: #434B5C;\n",
              "    box-shadow: 0px 1px 3px 1px rgba(0, 0, 0, 0.15);\n",
              "    filter: drop-shadow(0px 1px 2px rgba(0, 0, 0, 0.3));\n",
              "    fill: #FFFFFF;\n",
              "  }\n",
              "</style>\n",
              "\n",
              "    <script>\n",
              "      async function quickchart(key) {\n",
              "        const containerElement = document.querySelector('#' + key);\n",
              "        const charts = await google.colab.kernel.invokeFunction(\n",
              "            'suggestCharts', [key], {});\n",
              "      }\n",
              "    </script>\n",
              "\n",
              "      <script>\n",
              "\n",
              "function displayQuickchartButton(domScope) {\n",
              "  let quickchartButtonEl =\n",
              "    domScope.querySelector('#df-2b73b662-fb6a-4b1c-bb41-33c93da89833 button.colab-df-quickchart');\n",
              "  quickchartButtonEl.style.display =\n",
              "    google.colab.kernel.accessAllowed ? 'block' : 'none';\n",
              "}\n",
              "\n",
              "        displayQuickchartButton(document);\n",
              "      </script>\n",
              "      <style>\n",
              "    .colab-df-container {\n",
              "      display:flex;\n",
              "      flex-wrap:wrap;\n",
              "      gap: 12px;\n",
              "    }\n",
              "\n",
              "    .colab-df-convert {\n",
              "      background-color: #E8F0FE;\n",
              "      border: none;\n",
              "      border-radius: 50%;\n",
              "      cursor: pointer;\n",
              "      display: none;\n",
              "      fill: #1967D2;\n",
              "      height: 32px;\n",
              "      padding: 0 0 0 0;\n",
              "      width: 32px;\n",
              "    }\n",
              "\n",
              "    .colab-df-convert:hover {\n",
              "      background-color: #E2EBFA;\n",
              "      box-shadow: 0px 1px 2px rgba(60, 64, 67, 0.3), 0px 1px 3px 1px rgba(60, 64, 67, 0.15);\n",
              "      fill: #174EA6;\n",
              "    }\n",
              "\n",
              "    [theme=dark] .colab-df-convert {\n",
              "      background-color: #3B4455;\n",
              "      fill: #D2E3FC;\n",
              "    }\n",
              "\n",
              "    [theme=dark] .colab-df-convert:hover {\n",
              "      background-color: #434B5C;\n",
              "      box-shadow: 0px 1px 3px 1px rgba(0, 0, 0, 0.15);\n",
              "      filter: drop-shadow(0px 1px 2px rgba(0, 0, 0, 0.3));\n",
              "      fill: #FFFFFF;\n",
              "    }\n",
              "  </style>\n",
              "\n",
              "      <script>\n",
              "        const buttonEl =\n",
              "          document.querySelector('#df-b44ddb89-5bd6-4b1a-8adc-b08e460a80b8 button.colab-df-convert');\n",
              "        buttonEl.style.display =\n",
              "          google.colab.kernel.accessAllowed ? 'block' : 'none';\n",
              "\n",
              "        async function convertToInteractive(key) {\n",
              "          const element = document.querySelector('#df-b44ddb89-5bd6-4b1a-8adc-b08e460a80b8');\n",
              "          const dataTable =\n",
              "            await google.colab.kernel.invokeFunction('convertToInteractive',\n",
              "                                                     [key], {});\n",
              "          if (!dataTable) return;\n",
              "\n",
              "          const docLinkHtml = 'Like what you see? Visit the ' +\n",
              "            '<a target=\"_blank\" href=https://colab.research.google.com/notebooks/data_table.ipynb>data table notebook</a>'\n",
              "            + ' to learn more about interactive tables.';\n",
              "          element.innerHTML = '';\n",
              "          dataTable['output_type'] = 'display_data';\n",
              "          await google.colab.output.renderOutput(dataTable, element);\n",
              "          const docLink = document.createElement('div');\n",
              "          docLink.innerHTML = docLinkHtml;\n",
              "          element.appendChild(docLink);\n",
              "        }\n",
              "      </script>\n",
              "    </div>\n",
              "  </div>\n"
            ]
          },
          "metadata": {},
          "execution_count": 47
        }
      ]
    }
  ]
}